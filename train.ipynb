{
 "cells": [
  {
   "cell_type": "code",
   "execution_count": null,
   "metadata": {},
   "outputs": [],
   "source": [
    "import sagemaker\n",
    "from sagemaker.huggingface import HuggingFace\n",
    "from sagemaker.huggingface import TrainingCompilerConfig"
   ]
  },
  {
   "cell_type": "code",
   "execution_count": null,
   "metadata": {},
   "outputs": [],
   "source": [
    "s3_url = \"s3//.......\"\n",
    "\n",
    "\n",
    "# gets role for executing training job\n",
    "role = sagemaker.get_execution_role()\n",
    "hyperparameters = {\n",
    "\t'model_name_or_path':'rinna/japanese-gpt2-small',\n",
    "\t'output_dir':'/opt/ml/model',\n",
    "    #\"train_file\": \"/opt/ml/code/small_train.txt\",\n",
    "    #\"validation_file\": \"/opt/ml/code/test.txt\", \n",
    "    'num_train_epochs': 10,\n",
    "    \"per_device_train_batch_size\": 8,\n",
    "    \"per_device_eval_batch_size\": 8\n",
    "}\n",
    "\n",
    "# git configuration to download our fine-tuning script\n",
    "#git_config = {'repo': 'https://github.com/huggingface/transformers.git','branch': 'v4.6.1'}\n",
    "\n",
    "# creates Hugging Face estimator\n",
    "huggingface_estimator = HuggingFace(\n",
    "    #source_dir='./examples/pytorch/language-modeling',\n",
    "    #git_config=git_config,\n",
    "    entry_point='old_run_clm.py',\n",
    "\tinstance_count=1,\n",
    "    instance_type='ml.p3.2xlarge',\n",
    "\ttransformers_version='4.11.0',\n",
    "\tpytorch_version='1.9.0',\n",
    "    compiler_config = TrainingCompilerConfig(),\n",
    "    hyperparameters = hyperparameters,\n",
    "\trole=role,\n",
    "    py_version='py38'\n",
    ")\n",
    "\n",
    "# starting the train job\n",
    "huggingface_estimator.fit({\"train\": f\"{s3_url}/data/small_train.txt\", \"test\": f\"{s3_url}/data/test.txt\"})"
   ]
  },
  {
   "cell_type": "code",
   "execution_count": null,
   "metadata": {},
   "outputs": [],
   "source": []
  },
  {
   "cell_type": "code",
   "execution_count": null,
   "metadata": {},
   "outputs": [],
   "source": [
    "sagemaker.s3.S3Downloader.download(\n",
    "    s3_uri=f'{s3_url}/data/small_train.txt',\n",
    "    local_path=\"/root/\"\n",
    ")"
   ]
  },
  {
   "cell_type": "code",
   "execution_count": null,
   "metadata": {},
   "outputs": [],
   "source": [
    "sagemaker.s3.S3Downloader.list(\n",
    "    s3_uri=f'{s3_url}/data/',\n",
    ")"
   ]
  }
 ],
 "metadata": {
  "language_info": {
   "name": "python"
  },
  "orig_nbformat": 4
 },
 "nbformat": 4,
 "nbformat_minor": 2
}
